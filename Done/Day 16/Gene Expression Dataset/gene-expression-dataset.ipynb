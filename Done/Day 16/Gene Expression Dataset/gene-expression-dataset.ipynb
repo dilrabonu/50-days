{
 "cells": [
  {
   "cell_type": "code",
   "execution_count": 1,
   "id": "bccbe646",
   "metadata": {
    "_cell_guid": "b1076dfc-b9ad-4769-8c92-a6c4dae69d19",
    "_uuid": "8f2839f25d086af736a60e9eeb907d3b93b6e0e5",
    "execution": {
     "iopub.execute_input": "2025-06-02T15:50:03.516507Z",
     "iopub.status.busy": "2025-06-02T15:50:03.516152Z",
     "iopub.status.idle": "2025-06-02T15:50:05.560575Z",
     "shell.execute_reply": "2025-06-02T15:50:05.559408Z"
    },
    "papermill": {
     "duration": 2.051681,
     "end_time": "2025-06-02T15:50:05.562429",
     "exception": false,
     "start_time": "2025-06-02T15:50:03.510748",
     "status": "completed"
    },
    "tags": []
   },
   "outputs": [
    {
     "name": "stdout",
     "output_type": "stream",
     "text": [
      "/kaggle/input/gene-expression/data_set_ALL_AML_independent.csv\n",
      "/kaggle/input/gene-expression/data_set_ALL_AML_train.csv\n",
      "/kaggle/input/gene-expression/actual.csv\n"
     ]
    }
   ],
   "source": [
    "# This Python 3 environment comes with many helpful analytics libraries installed\n",
    "# It is defined by the kaggle/python Docker image: https://github.com/kaggle/docker-python\n",
    "# For example, here's several helpful packages to load\n",
    "\n",
    "import numpy as np # linear algebra\n",
    "import pandas as pd # data processing, CSV file I/O (e.g. pd.read_csv)\n",
    "\n",
    "# Input data files are available in the read-only \"../input/\" directory\n",
    "# For example, running this (by clicking run or pressing Shift+Enter) will list all files under the input directory\n",
    "\n",
    "import os\n",
    "for dirname, _, filenames in os.walk('/kaggle/input'):\n",
    "    for filename in filenames:\n",
    "        print(os.path.join(dirname, filename))\n",
    "\n",
    "# You can write up to 20GB to the current directory (/kaggle/working/) that gets preserved as output when you create a version using \"Save & Run All\" \n",
    "# You can also write temporary files to /kaggle/temp/, but they won't be saved outside of the current session"
   ]
  },
  {
   "cell_type": "code",
   "execution_count": 2,
   "id": "de75413d",
   "metadata": {
    "execution": {
     "iopub.execute_input": "2025-06-02T15:50:05.571084Z",
     "iopub.status.busy": "2025-06-02T15:50:05.570607Z",
     "iopub.status.idle": "2025-06-02T15:50:05.831954Z",
     "shell.execute_reply": "2025-06-02T15:50:05.831022Z"
    },
    "papermill": {
     "duration": 0.267563,
     "end_time": "2025-06-02T15:50:05.833912",
     "exception": false,
     "start_time": "2025-06-02T15:50:05.566349",
     "status": "completed"
    },
    "tags": []
   },
   "outputs": [],
   "source": [
    "import pandas as pd\n",
    "import numpy as np\n",
    "\n",
    "df_train = pd.read_csv(\"/kaggle/input/gene-expression/data_set_ALL_AML_train.csv\")\n",
    "df_test= pd.read_csv(\"/kaggle/input/gene-expression/data_set_ALL_AML_independent.csv\")\n",
    "df_labels = pd.read_csv(\"/kaggle/input/gene-expression/actual.csv\")\n",
    "\n",
    "df_train_clean = df_train.drop(columns=['Gene Description', 'Gene Accession Number'])\n",
    "X_train = df_train_clean.T\n",
    "X_train.reset_index(drop=True, inplace=True)"
   ]
  },
  {
   "cell_type": "code",
   "execution_count": 3,
   "id": "cf050955",
   "metadata": {
    "execution": {
     "iopub.execute_input": "2025-06-02T15:50:05.842678Z",
     "iopub.status.busy": "2025-06-02T15:50:05.842338Z",
     "iopub.status.idle": "2025-06-02T15:50:05.850908Z",
     "shell.execute_reply": "2025-06-02T15:50:05.849939Z"
    },
    "papermill": {
     "duration": 0.015471,
     "end_time": "2025-06-02T15:50:05.853003",
     "exception": false,
     "start_time": "2025-06-02T15:50:05.837532",
     "status": "completed"
    },
    "tags": []
   },
   "outputs": [],
   "source": [
    "X_train['patient'] = X_train.index.astype(str)"
   ]
  },
  {
   "cell_type": "code",
   "execution_count": 4,
   "id": "80e91af7",
   "metadata": {
    "execution": {
     "iopub.execute_input": "2025-06-02T15:50:05.861085Z",
     "iopub.status.busy": "2025-06-02T15:50:05.860745Z",
     "iopub.status.idle": "2025-06-02T15:50:05.929806Z",
     "shell.execute_reply": "2025-06-02T15:50:05.928862Z"
    },
    "papermill": {
     "duration": 0.075112,
     "end_time": "2025-06-02T15:50:05.931689",
     "exception": false,
     "start_time": "2025-06-02T15:50:05.856577",
     "status": "completed"
    },
    "tags": []
   },
   "outputs": [],
   "source": [
    "df_labels['patient'] = df_labels['patient'].astype(str)\n",
    "X_train_labeled = pd.merge(X_train, df_labels, on='patient', how='inner')"
   ]
  },
  {
   "cell_type": "code",
   "execution_count": 5,
   "id": "60fe9a35",
   "metadata": {
    "execution": {
     "iopub.execute_input": "2025-06-02T15:50:05.939253Z",
     "iopub.status.busy": "2025-06-02T15:50:05.938882Z",
     "iopub.status.idle": "2025-06-02T15:50:05.957424Z",
     "shell.execute_reply": "2025-06-02T15:50:05.956287Z"
    },
    "papermill": {
     "duration": 0.024434,
     "end_time": "2025-06-02T15:50:05.959253",
     "exception": false,
     "start_time": "2025-06-02T15:50:05.934819",
     "status": "completed"
    },
    "tags": []
   },
   "outputs": [],
   "source": [
    "X_train_labeled.drop(columns=['patient'], inplace=True)"
   ]
  },
  {
   "cell_type": "code",
   "execution_count": 6,
   "id": "654925cd",
   "metadata": {
    "execution": {
     "iopub.execute_input": "2025-06-02T15:50:05.966871Z",
     "iopub.status.busy": "2025-06-02T15:50:05.966551Z",
     "iopub.status.idle": "2025-06-02T15:50:05.999537Z",
     "shell.execute_reply": "2025-06-02T15:50:05.998493Z"
    },
    "papermill": {
     "duration": 0.039053,
     "end_time": "2025-06-02T15:50:06.001522",
     "exception": false,
     "start_time": "2025-06-02T15:50:05.962469",
     "status": "completed"
    },
    "tags": []
   },
   "outputs": [
    {
     "data": {
      "text/html": [
       "<div>\n",
       "<style scoped>\n",
       "    .dataframe tbody tr th:only-of-type {\n",
       "        vertical-align: middle;\n",
       "    }\n",
       "\n",
       "    .dataframe tbody tr th {\n",
       "        vertical-align: top;\n",
       "    }\n",
       "\n",
       "    .dataframe thead th {\n",
       "        text-align: right;\n",
       "    }\n",
       "</style>\n",
       "<table border=\"1\" class=\"dataframe\">\n",
       "  <thead>\n",
       "    <tr style=\"text-align: right;\">\n",
       "      <th></th>\n",
       "      <th>0</th>\n",
       "      <th>1</th>\n",
       "      <th>2</th>\n",
       "      <th>3</th>\n",
       "      <th>4</th>\n",
       "      <th>5</th>\n",
       "      <th>6</th>\n",
       "      <th>7</th>\n",
       "      <th>8</th>\n",
       "      <th>9</th>\n",
       "      <th>...</th>\n",
       "      <th>7120</th>\n",
       "      <th>7121</th>\n",
       "      <th>7122</th>\n",
       "      <th>7123</th>\n",
       "      <th>7124</th>\n",
       "      <th>7125</th>\n",
       "      <th>7126</th>\n",
       "      <th>7127</th>\n",
       "      <th>7128</th>\n",
       "      <th>cancer</th>\n",
       "    </tr>\n",
       "  </thead>\n",
       "  <tbody>\n",
       "    <tr>\n",
       "      <th>0</th>\n",
       "      <td>A</td>\n",
       "      <td>A</td>\n",
       "      <td>A</td>\n",
       "      <td>A</td>\n",
       "      <td>A</td>\n",
       "      <td>A</td>\n",
       "      <td>A</td>\n",
       "      <td>A</td>\n",
       "      <td>A</td>\n",
       "      <td>A</td>\n",
       "      <td>...</td>\n",
       "      <td>A</td>\n",
       "      <td>A</td>\n",
       "      <td>P</td>\n",
       "      <td>A</td>\n",
       "      <td>A</td>\n",
       "      <td>A</td>\n",
       "      <td>A</td>\n",
       "      <td>A</td>\n",
       "      <td>A</td>\n",
       "      <td>ALL</td>\n",
       "    </tr>\n",
       "    <tr>\n",
       "      <th>1</th>\n",
       "      <td>-139</td>\n",
       "      <td>-73</td>\n",
       "      <td>-1</td>\n",
       "      <td>283</td>\n",
       "      <td>-264</td>\n",
       "      <td>-400</td>\n",
       "      <td>-330</td>\n",
       "      <td>-168</td>\n",
       "      <td>101</td>\n",
       "      <td>74</td>\n",
       "      <td>...</td>\n",
       "      <td>837</td>\n",
       "      <td>-36</td>\n",
       "      <td>442</td>\n",
       "      <td>-17</td>\n",
       "      <td>782</td>\n",
       "      <td>295</td>\n",
       "      <td>11</td>\n",
       "      <td>76</td>\n",
       "      <td>-14</td>\n",
       "      <td>ALL</td>\n",
       "    </tr>\n",
       "    <tr>\n",
       "      <th>2</th>\n",
       "      <td>A</td>\n",
       "      <td>A</td>\n",
       "      <td>A</td>\n",
       "      <td>A</td>\n",
       "      <td>A</td>\n",
       "      <td>A</td>\n",
       "      <td>A</td>\n",
       "      <td>A</td>\n",
       "      <td>A</td>\n",
       "      <td>A</td>\n",
       "      <td>...</td>\n",
       "      <td>A</td>\n",
       "      <td>A</td>\n",
       "      <td>A</td>\n",
       "      <td>A</td>\n",
       "      <td>A</td>\n",
       "      <td>A</td>\n",
       "      <td>A</td>\n",
       "      <td>A</td>\n",
       "      <td>A</td>\n",
       "      <td>ALL</td>\n",
       "    </tr>\n",
       "    <tr>\n",
       "      <th>3</th>\n",
       "      <td>-76</td>\n",
       "      <td>-49</td>\n",
       "      <td>-307</td>\n",
       "      <td>309</td>\n",
       "      <td>-376</td>\n",
       "      <td>-650</td>\n",
       "      <td>33</td>\n",
       "      <td>-367</td>\n",
       "      <td>206</td>\n",
       "      <td>-215</td>\n",
       "      <td>...</td>\n",
       "      <td>1199</td>\n",
       "      <td>33</td>\n",
       "      <td>168</td>\n",
       "      <td>52</td>\n",
       "      <td>1138</td>\n",
       "      <td>777</td>\n",
       "      <td>41</td>\n",
       "      <td>228</td>\n",
       "      <td>-41</td>\n",
       "      <td>ALL</td>\n",
       "    </tr>\n",
       "    <tr>\n",
       "      <th>4</th>\n",
       "      <td>A</td>\n",
       "      <td>A</td>\n",
       "      <td>A</td>\n",
       "      <td>A</td>\n",
       "      <td>A</td>\n",
       "      <td>A</td>\n",
       "      <td>A</td>\n",
       "      <td>A</td>\n",
       "      <td>A</td>\n",
       "      <td>A</td>\n",
       "      <td>...</td>\n",
       "      <td>A</td>\n",
       "      <td>A</td>\n",
       "      <td>A</td>\n",
       "      <td>A</td>\n",
       "      <td>A</td>\n",
       "      <td>P</td>\n",
       "      <td>A</td>\n",
       "      <td>A</td>\n",
       "      <td>A</td>\n",
       "      <td>ALL</td>\n",
       "    </tr>\n",
       "  </tbody>\n",
       "</table>\n",
       "<p>5 rows × 7130 columns</p>\n",
       "</div>"
      ],
      "text/plain": [
       "      0    1     2    3     4     5     6     7    8     9  ...  7120 7121  \\\n",
       "0     A    A     A    A     A     A     A     A    A     A  ...     A    A   \n",
       "1  -139  -73    -1  283  -264  -400  -330  -168  101    74  ...   837  -36   \n",
       "2     A    A     A    A     A     A     A     A    A     A  ...     A    A   \n",
       "3   -76  -49  -307  309  -376  -650    33  -367  206  -215  ...  1199   33   \n",
       "4     A    A     A    A     A     A     A     A    A     A  ...     A    A   \n",
       "\n",
       "  7122 7123  7124 7125 7126 7127 7128 cancer  \n",
       "0    P    A     A    A    A    A    A    ALL  \n",
       "1  442  -17   782  295   11   76  -14    ALL  \n",
       "2    A    A     A    A    A    A    A    ALL  \n",
       "3  168   52  1138  777   41  228  -41    ALL  \n",
       "4    A    A     A    P    A    A    A    ALL  \n",
       "\n",
       "[5 rows x 7130 columns]"
      ]
     },
     "execution_count": 6,
     "metadata": {},
     "output_type": "execute_result"
    }
   ],
   "source": [
    "X_train_labeled.head()"
   ]
  },
  {
   "cell_type": "code",
   "execution_count": 7,
   "id": "11f4f2f7",
   "metadata": {
    "execution": {
     "iopub.execute_input": "2025-06-02T15:50:06.009896Z",
     "iopub.status.busy": "2025-06-02T15:50:06.009565Z",
     "iopub.status.idle": "2025-06-02T15:50:06.028682Z",
     "shell.execute_reply": "2025-06-02T15:50:06.027366Z"
    },
    "papermill": {
     "duration": 0.025476,
     "end_time": "2025-06-02T15:50:06.030519",
     "exception": false,
     "start_time": "2025-06-02T15:50:06.005043",
     "status": "completed"
    },
    "tags": []
   },
   "outputs": [
    {
     "name": "stdout",
     "output_type": "stream",
     "text": [
      "Final shapes after merge:\n",
      "X: (72, 7129)\n",
      "y: (72,)\n"
     ]
    }
   ],
   "source": [
    "X = X_train_labeled.drop(columns=['cancer'])\n",
    "y = X_train_labeled['cancer']\n",
    "\n",
    "print(\"Final shapes after merge:\")\n",
    "print(\"X:\", X.shape)\n",
    "print(\"y:\", y.shape)"
   ]
  },
  {
   "cell_type": "code",
   "execution_count": 8,
   "id": "e7164509",
   "metadata": {
    "execution": {
     "iopub.execute_input": "2025-06-02T15:50:06.039286Z",
     "iopub.status.busy": "2025-06-02T15:50:06.038381Z",
     "iopub.status.idle": "2025-06-02T15:50:11.116038Z",
     "shell.execute_reply": "2025-06-02T15:50:11.114893Z"
    },
    "papermill": {
     "duration": 5.083944,
     "end_time": "2025-06-02T15:50:11.118011",
     "exception": false,
     "start_time": "2025-06-02T15:50:06.034067",
     "status": "completed"
    },
    "tags": []
   },
   "outputs": [
    {
     "name": "stdout",
     "output_type": "stream",
     "text": [
      "Requirement already satisfied: umap-learn in /usr/local/lib/python3.11/dist-packages (0.5.7)\r\n",
      "Requirement already satisfied: numpy>=1.17 in /usr/local/lib/python3.11/dist-packages (from umap-learn) (1.26.4)\r\n",
      "Requirement already satisfied: scipy>=1.3.1 in /usr/local/lib/python3.11/dist-packages (from umap-learn) (1.15.2)\r\n",
      "Requirement already satisfied: scikit-learn>=0.22 in /usr/local/lib/python3.11/dist-packages (from umap-learn) (1.2.2)\r\n",
      "Requirement already satisfied: numba>=0.51.2 in /usr/local/lib/python3.11/dist-packages (from umap-learn) (0.60.0)\r\n",
      "Requirement already satisfied: pynndescent>=0.5 in /usr/local/lib/python3.11/dist-packages (from umap-learn) (0.5.13)\r\n",
      "Requirement already satisfied: tqdm in /usr/local/lib/python3.11/dist-packages (from umap-learn) (4.67.1)\r\n",
      "Requirement already satisfied: llvmlite<0.44,>=0.43.0dev0 in /usr/local/lib/python3.11/dist-packages (from numba>=0.51.2->umap-learn) (0.43.0)\r\n",
      "Requirement already satisfied: mkl_fft in /usr/local/lib/python3.11/dist-packages (from numpy>=1.17->umap-learn) (1.3.8)\r\n",
      "Requirement already satisfied: mkl_random in /usr/local/lib/python3.11/dist-packages (from numpy>=1.17->umap-learn) (1.2.4)\r\n",
      "Requirement already satisfied: mkl_umath in /usr/local/lib/python3.11/dist-packages (from numpy>=1.17->umap-learn) (0.1.1)\r\n",
      "Requirement already satisfied: mkl in /usr/local/lib/python3.11/dist-packages (from numpy>=1.17->umap-learn) (2025.1.0)\r\n",
      "Requirement already satisfied: tbb4py in /usr/local/lib/python3.11/dist-packages (from numpy>=1.17->umap-learn) (2022.1.0)\r\n",
      "Requirement already satisfied: mkl-service in /usr/local/lib/python3.11/dist-packages (from numpy>=1.17->umap-learn) (2.4.1)\r\n",
      "Requirement already satisfied: joblib>=0.11 in /usr/local/lib/python3.11/dist-packages (from pynndescent>=0.5->umap-learn) (1.5.0)\r\n",
      "Requirement already satisfied: threadpoolctl>=2.0.0 in /usr/local/lib/python3.11/dist-packages (from scikit-learn>=0.22->umap-learn) (3.6.0)\r\n",
      "Requirement already satisfied: intel-openmp<2026,>=2024 in /usr/local/lib/python3.11/dist-packages (from mkl->numpy>=1.17->umap-learn) (2024.2.0)\r\n",
      "Requirement already satisfied: tbb==2022.* in /usr/local/lib/python3.11/dist-packages (from mkl->numpy>=1.17->umap-learn) (2022.1.0)\r\n",
      "Requirement already satisfied: tcmlib==1.* in /usr/local/lib/python3.11/dist-packages (from tbb==2022.*->mkl->numpy>=1.17->umap-learn) (1.3.0)\r\n",
      "Requirement already satisfied: intel-cmplr-lib-rt in /usr/local/lib/python3.11/dist-packages (from mkl_umath->numpy>=1.17->umap-learn) (2024.2.0)\r\n",
      "Requirement already satisfied: intel-cmplr-lib-ur==2024.2.0 in /usr/local/lib/python3.11/dist-packages (from intel-openmp<2026,>=2024->mkl->numpy>=1.17->umap-learn) (2024.2.0)\r\n"
     ]
    }
   ],
   "source": [
    "!pip install umap-learn\n"
   ]
  },
  {
   "cell_type": "code",
   "execution_count": 9,
   "id": "26ea944e",
   "metadata": {
    "execution": {
     "iopub.execute_input": "2025-06-02T15:50:11.127593Z",
     "iopub.status.busy": "2025-06-02T15:50:11.127228Z",
     "iopub.status.idle": "2025-06-02T15:50:11.150189Z",
     "shell.execute_reply": "2025-06-02T15:50:11.149064Z"
    },
    "papermill": {
     "duration": 0.029622,
     "end_time": "2025-06-02T15:50:11.151833",
     "exception": false,
     "start_time": "2025-06-02T15:50:11.122211",
     "status": "completed"
    },
    "tags": []
   },
   "outputs": [
    {
     "data": {
      "text/html": [
       "<div>\n",
       "<style scoped>\n",
       "    .dataframe tbody tr th:only-of-type {\n",
       "        vertical-align: middle;\n",
       "    }\n",
       "\n",
       "    .dataframe tbody tr th {\n",
       "        vertical-align: top;\n",
       "    }\n",
       "\n",
       "    .dataframe thead th {\n",
       "        text-align: right;\n",
       "    }\n",
       "</style>\n",
       "<table border=\"1\" class=\"dataframe\">\n",
       "  <thead>\n",
       "    <tr style=\"text-align: right;\">\n",
       "      <th></th>\n",
       "      <th>0</th>\n",
       "      <th>1</th>\n",
       "      <th>2</th>\n",
       "      <th>3</th>\n",
       "      <th>4</th>\n",
       "      <th>5</th>\n",
       "      <th>6</th>\n",
       "      <th>7</th>\n",
       "      <th>8</th>\n",
       "      <th>9</th>\n",
       "      <th>...</th>\n",
       "      <th>7119</th>\n",
       "      <th>7120</th>\n",
       "      <th>7121</th>\n",
       "      <th>7122</th>\n",
       "      <th>7123</th>\n",
       "      <th>7124</th>\n",
       "      <th>7125</th>\n",
       "      <th>7126</th>\n",
       "      <th>7127</th>\n",
       "      <th>7128</th>\n",
       "    </tr>\n",
       "  </thead>\n",
       "  <tbody>\n",
       "    <tr>\n",
       "      <th>0</th>\n",
       "      <td>A</td>\n",
       "      <td>A</td>\n",
       "      <td>A</td>\n",
       "      <td>A</td>\n",
       "      <td>A</td>\n",
       "      <td>A</td>\n",
       "      <td>A</td>\n",
       "      <td>A</td>\n",
       "      <td>A</td>\n",
       "      <td>A</td>\n",
       "      <td>...</td>\n",
       "      <td>A</td>\n",
       "      <td>A</td>\n",
       "      <td>A</td>\n",
       "      <td>P</td>\n",
       "      <td>A</td>\n",
       "      <td>A</td>\n",
       "      <td>A</td>\n",
       "      <td>A</td>\n",
       "      <td>A</td>\n",
       "      <td>A</td>\n",
       "    </tr>\n",
       "    <tr>\n",
       "      <th>1</th>\n",
       "      <td>-139</td>\n",
       "      <td>-73</td>\n",
       "      <td>-1</td>\n",
       "      <td>283</td>\n",
       "      <td>-264</td>\n",
       "      <td>-400</td>\n",
       "      <td>-330</td>\n",
       "      <td>-168</td>\n",
       "      <td>101</td>\n",
       "      <td>74</td>\n",
       "      <td>...</td>\n",
       "      <td>169</td>\n",
       "      <td>837</td>\n",
       "      <td>-36</td>\n",
       "      <td>442</td>\n",
       "      <td>-17</td>\n",
       "      <td>782</td>\n",
       "      <td>295</td>\n",
       "      <td>11</td>\n",
       "      <td>76</td>\n",
       "      <td>-14</td>\n",
       "    </tr>\n",
       "    <tr>\n",
       "      <th>2</th>\n",
       "      <td>A</td>\n",
       "      <td>A</td>\n",
       "      <td>A</td>\n",
       "      <td>A</td>\n",
       "      <td>A</td>\n",
       "      <td>A</td>\n",
       "      <td>A</td>\n",
       "      <td>A</td>\n",
       "      <td>A</td>\n",
       "      <td>A</td>\n",
       "      <td>...</td>\n",
       "      <td>A</td>\n",
       "      <td>A</td>\n",
       "      <td>A</td>\n",
       "      <td>A</td>\n",
       "      <td>A</td>\n",
       "      <td>A</td>\n",
       "      <td>A</td>\n",
       "      <td>A</td>\n",
       "      <td>A</td>\n",
       "      <td>A</td>\n",
       "    </tr>\n",
       "    <tr>\n",
       "      <th>3</th>\n",
       "      <td>-76</td>\n",
       "      <td>-49</td>\n",
       "      <td>-307</td>\n",
       "      <td>309</td>\n",
       "      <td>-376</td>\n",
       "      <td>-650</td>\n",
       "      <td>33</td>\n",
       "      <td>-367</td>\n",
       "      <td>206</td>\n",
       "      <td>-215</td>\n",
       "      <td>...</td>\n",
       "      <td>315</td>\n",
       "      <td>1199</td>\n",
       "      <td>33</td>\n",
       "      <td>168</td>\n",
       "      <td>52</td>\n",
       "      <td>1138</td>\n",
       "      <td>777</td>\n",
       "      <td>41</td>\n",
       "      <td>228</td>\n",
       "      <td>-41</td>\n",
       "    </tr>\n",
       "    <tr>\n",
       "      <th>4</th>\n",
       "      <td>A</td>\n",
       "      <td>A</td>\n",
       "      <td>A</td>\n",
       "      <td>A</td>\n",
       "      <td>A</td>\n",
       "      <td>A</td>\n",
       "      <td>A</td>\n",
       "      <td>A</td>\n",
       "      <td>A</td>\n",
       "      <td>A</td>\n",
       "      <td>...</td>\n",
       "      <td>P</td>\n",
       "      <td>A</td>\n",
       "      <td>A</td>\n",
       "      <td>A</td>\n",
       "      <td>A</td>\n",
       "      <td>A</td>\n",
       "      <td>P</td>\n",
       "      <td>A</td>\n",
       "      <td>A</td>\n",
       "      <td>A</td>\n",
       "    </tr>\n",
       "  </tbody>\n",
       "</table>\n",
       "<p>5 rows × 7129 columns</p>\n",
       "</div>"
      ],
      "text/plain": [
       "   0    1     2    3     4     5     6     7    8     9     ... 7119  7120  \\\n",
       "0     A    A     A    A     A     A     A     A    A     A  ...    A     A   \n",
       "1  -139  -73    -1  283  -264  -400  -330  -168  101    74  ...  169   837   \n",
       "2     A    A     A    A     A     A     A     A    A     A  ...    A     A   \n",
       "3   -76  -49  -307  309  -376  -650    33  -367  206  -215  ...  315  1199   \n",
       "4     A    A     A    A     A     A     A     A    A     A  ...    P     A   \n",
       "\n",
       "  7121 7122 7123  7124 7125 7126 7127 7128  \n",
       "0    A    P    A     A    A    A    A    A  \n",
       "1  -36  442  -17   782  295   11   76  -14  \n",
       "2    A    A    A     A    A    A    A    A  \n",
       "3   33  168   52  1138  777   41  228  -41  \n",
       "4    A    A    A     A    P    A    A    A  \n",
       "\n",
       "[5 rows x 7129 columns]"
      ]
     },
     "execution_count": 9,
     "metadata": {},
     "output_type": "execute_result"
    }
   ],
   "source": [
    "X.head()"
   ]
  },
  {
   "cell_type": "code",
   "execution_count": 10,
   "id": "4bc17810",
   "metadata": {
    "execution": {
     "iopub.execute_input": "2025-06-02T15:50:11.160775Z",
     "iopub.status.busy": "2025-06-02T15:50:11.160448Z",
     "iopub.status.idle": "2025-06-02T15:50:12.335119Z",
     "shell.execute_reply": "2025-06-02T15:50:12.334141Z"
    },
    "papermill": {
     "duration": 1.181108,
     "end_time": "2025-06-02T15:50:12.336946",
     "exception": false,
     "start_time": "2025-06-02T15:50:11.155838",
     "status": "completed"
    },
    "tags": []
   },
   "outputs": [
    {
     "name": "stdout",
     "output_type": "stream",
     "text": [
      "✅ Filtered X shape: (36, 7129)\n",
      "✅ Filtered y shape: (36,)\n"
     ]
    }
   ],
   "source": [
    "X_numeric = X.apply(pd.to_numeric, errors='coerce')  \n",
    "X_numeric = X_numeric.dropna(axis=0, how='any')     \n",
    "\n",
    "\n",
    "y_filtered = y.loc[X_numeric.index]  #\n",
    "\n",
    "print(\"✅ Filtered X shape:\", X_numeric.shape)\n",
    "print(\"✅ Filtered y shape:\", y_filtered.shape)\n"
   ]
  },
  {
   "cell_type": "code",
   "execution_count": 11,
   "id": "e839b170",
   "metadata": {
    "execution": {
     "iopub.execute_input": "2025-06-02T15:50:12.347382Z",
     "iopub.status.busy": "2025-06-02T15:50:12.347049Z",
     "iopub.status.idle": "2025-06-02T15:51:12.631652Z",
     "shell.execute_reply": "2025-06-02T15:51:12.630647Z"
    },
    "papermill": {
     "duration": 60.291646,
     "end_time": "2025-06-02T15:51:12.633867",
     "exception": false,
     "start_time": "2025-06-02T15:50:12.342221",
     "status": "completed"
    },
    "tags": []
   },
   "outputs": [
    {
     "name": "stderr",
     "output_type": "stream",
     "text": [
      "2025-06-02 15:50:33.777542: E external/local_xla/xla/stream_executor/cuda/cuda_fft.cc:477] Unable to register cuFFT factory: Attempting to register factory for plugin cuFFT when one has already been registered\n",
      "WARNING: All log messages before absl::InitializeLog() is called are written to STDERR\n",
      "E0000 00:00:1748879434.094053      14 cuda_dnn.cc:8310] Unable to register cuDNN factory: Attempting to register factory for plugin cuDNN when one has already been registered\n",
      "E0000 00:00:1748879434.183602      14 cuda_blas.cc:1418] Unable to register cuBLAS factory: Attempting to register factory for plugin cuBLAS when one has already been registered\n",
      "/usr/local/lib/python3.11/dist-packages/umap/umap_.py:1952: UserWarning: n_jobs value 1 overridden to 1 by setting random_state. Use no seed for parallelism.\n",
      "  warn(\n"
     ]
    }
   ],
   "source": [
    "from sklearn.preprocessing import StandardScaler\n",
    "from sklearn.decomposition import PCA\n",
    "from sklearn.manifold import TSNE\n",
    "import umap.umap_ as umap\n",
    "import matplotlib.pyplot as plt\n",
    "import seaborn as sns\n",
    "\n",
    "\n",
    "scaler = StandardScaler()\n",
    "X_scaled = scaler.fit_transform(X_numeric)\n",
    "\n",
    "pca = PCA(n_components=2)\n",
    "X_pca = pca.fit_transform(X_scaled)\n",
    "\n",
    "tsne = TSNE(n_components=2, perplexity=30, learning_rate=200, random_state=42)\n",
    "X_tsne = tsne.fit_transform(X_scaled)\n",
    "\n",
    "umap_model = umap.UMAP(n_components=2, random_state=42)\n",
    "X_umap = umap_model.fit_transform(X_scaled)\n",
    "\n"
   ]
  },
  {
   "cell_type": "code",
   "execution_count": 12,
   "id": "91529701",
   "metadata": {
    "execution": {
     "iopub.execute_input": "2025-06-02T15:51:12.644089Z",
     "iopub.status.busy": "2025-06-02T15:51:12.643486Z",
     "iopub.status.idle": "2025-06-02T15:51:13.488073Z",
     "shell.execute_reply": "2025-06-02T15:51:13.487023Z"
    },
    "papermill": {
     "duration": 0.851552,
     "end_time": "2025-06-02T15:51:13.489799",
     "exception": false,
     "start_time": "2025-06-02T15:51:12.638247",
     "status": "completed"
    },
    "tags": []
   },
   "outputs": [
    {
     "name": "stderr",
     "output_type": "stream",
     "text": [
      "/tmp/ipykernel_14/667979956.py:21: UserWarning: Glyph 129516 (\\N{DNA DOUBLE HELIX}) missing from current font.\n",
      "  plt.tight_layout()\n",
      "/usr/local/lib/python3.11/dist-packages/IPython/core/pylabtools.py:151: UserWarning: Glyph 129516 (\\N{DNA DOUBLE HELIX}) missing from current font.\n",
      "  fig.canvas.print_figure(bytes_io, **kw)\n"
     ]
    },
    {
     "data": {
      "image/png": "[encoded data removed]",
      "text/plain": [
       "<Figure size 1800x500 with 3 Axes>"
      ]
     },
     "metadata": {},
     "output_type": "display_data"
    }
   ],
   "source": [
    "y_final = y_filtered.reset_index(drop=True)\n",
    "\n",
    "plt.figure(figsize=(18, 5))\n",
    "\n",
    "# PCA\n",
    "plt.subplot(1, 3, 1)\n",
    "sns.scatterplot(x=X_pca[:, 0], y=X_pca[:, 1], hue=y_final, palette='Set2')\n",
    "plt.title('PCA Projection')\n",
    "\n",
    "# t-SNE\n",
    "plt.subplot(1, 3, 2)\n",
    "sns.scatterplot(x=X_tsne[:, 0], y=X_tsne[:, 1], hue=y_final, palette='Set2')\n",
    "plt.title('t-SNE Projection')\n",
    "\n",
    "# UMAP\n",
    "plt.subplot(1, 3, 3)\n",
    "sns.scatterplot(x=X_umap[:, 0], y=X_umap[:, 1], hue=y_final, palette='Set2')\n",
    "plt.title('UMAP Projection')\n",
    "\n",
    "plt.suptitle('🧬 Gene Expression Dimensionality Reduction', fontsize=16)\n",
    "plt.tight_layout()\n",
    "plt.show()\n"
   ]
  },
  {
   "cell_type": "code",
   "execution_count": 13,
   "id": "ee8d220d",
   "metadata": {
    "execution": {
     "iopub.execute_input": "2025-06-02T15:51:13.502671Z",
     "iopub.status.busy": "2025-06-02T15:51:13.502317Z",
     "iopub.status.idle": "2025-06-02T15:51:15.216554Z",
     "shell.execute_reply": "2025-06-02T15:51:15.215326Z"
    },
    "papermill": {
     "duration": 1.722513,
     "end_time": "2025-06-02T15:51:15.218218",
     "exception": false,
     "start_time": "2025-06-02T15:51:13.495705",
     "status": "completed"
    },
    "tags": []
   },
   "outputs": [
    {
     "name": "stdout",
     "output_type": "stream",
     "text": [
      "🔍 Logistic Regression Report:\n",
      "               precision    recall  f1-score   support\n",
      "\n",
      "         ALL       0.67      0.80      0.73         5\n",
      "         AML       0.50      0.33      0.40         3\n",
      "\n",
      "    accuracy                           0.62         8\n",
      "   macro avg       0.58      0.57      0.56         8\n",
      "weighted avg       0.60      0.62      0.60         8\n",
      "\n",
      "🔍 SVM Report:\n",
      "               precision    recall  f1-score   support\n",
      "\n",
      "         ALL       0.67      0.80      0.73         5\n",
      "         AML       0.50      0.33      0.40         3\n",
      "\n",
      "    accuracy                           0.62         8\n",
      "   macro avg       0.58      0.57      0.56         8\n",
      "weighted avg       0.60      0.62      0.60         8\n",
      "\n"
     ]
    },
    {
     "data": {
      "image/png": "[encoded data removed]",
      "text/plain": [
       "<Figure size 1200x500 with 4 Axes>"
      ]
     },
     "metadata": {},
     "output_type": "display_data"
    }
   ],
   "source": [
    "from sklearn.linear_model import LogisticRegression\n",
    "from sklearn.svm import SVC\n",
    "from sklearn.model_selection import train_test_split\n",
    "from sklearn.metrics import classification_report, confusion_matrix, ConfusionMatrixDisplay\n",
    "\n",
    "X_train_split, X_test_split, y_train_split, y_test_split = train_test_split(\n",
    "    X_numeric, y_filtered, test_size=0.2, random_state=42, stratify=y_filtered\n",
    ")\n",
    "\n",
    "#  Logistic Regression\n",
    "logreg = LogisticRegression(max_iter=1000)\n",
    "logreg.fit(X_train_split, y_train_split)\n",
    "y_pred_logreg = logreg.predict(X_test_split)\n",
    "\n",
    "# Support Vector Machine\n",
    "svm_model = SVC(kernel='linear', probability=True)\n",
    "svm_model.fit(X_train_split, y_train_split)\n",
    "y_pred_svm = svm_model.predict(X_test_split)\n",
    "\n",
    "#  Evaluation\n",
    "print(\"🔍 Logistic Regression Report:\\n\", classification_report(y_test_split, y_pred_logreg))\n",
    "print(\"🔍 SVM Report:\\n\", classification_report(y_test_split, y_pred_svm))\n",
    "\n",
    "# Confusion Matrix\n",
    "fig, axs = plt.subplots(1, 2, figsize=(12, 5))\n",
    "ConfusionMatrixDisplay.from_estimator(logreg, X_test_split, y_test_split, ax=axs[0])\n",
    "axs[0].set_title(\"Logistic Regression Confusion Matrix\")\n",
    "ConfusionMatrixDisplay.from_estimator(svm_model, X_test_split, y_test_split, ax=axs[1])\n",
    "axs[1].set_title(\"SVM Confusion Matrix\")\n",
    "plt.tight_layout()\n",
    "plt.show()"
   ]
  },
  {
   "cell_type": "code",
   "execution_count": null,
   "id": "d8127e96",
   "metadata": {
    "papermill": {
     "duration": 0.006712,
     "end_time": "2025-06-02T15:51:15.231884",
     "exception": false,
     "start_time": "2025-06-02T15:51:15.225172",
     "status": "completed"
    },
    "tags": []
   },
   "outputs": [],
   "source": []
  }
 ],
 "metadata": {
  "kaggle": {
   "accelerator": "none",
   "dataSources": [
    {
     "datasetId": 1868,
     "sourceId": 3249,
     "sourceType": "datasetVersion"
    }
   ],
   "dockerImageVersionId": 31040,
   "isGpuEnabled": false,
   "isInternetEnabled": true,
   "language": "python",
   "sourceType": "notebook"
  },
  "kernelspec": {
   "display_name": "Python 3",
   "language": "python",
   "name": "python3"
  },
  "language_info": {
   "codemirror_mode": {
    "name": "ipython",
    "version": 3
   },
   "file_extension": ".py",
   "mimetype": "text/x-python",
   "name": "python",
   "nbconvert_exporter": "python",
   "pygments_lexer": "ipython3",
   "version": "3.11.11"
  },
  "papermill": {
   "default_parameters": {},
   "duration": 80.277946,
   "end_time": "2025-06-02T15:51:18.484484",
   "environment_variables": {},
   "exception": null,
   "input_path": "__notebook__.ipynb",
   "output_path": "__notebook__.ipynb",
   "parameters": {},
   "start_time": "2025-06-02T15:49:58.206538",
   "version": "2.6.0"
  }
 },
 "nbformat": 4,
 "nbformat_minor": 5
}
