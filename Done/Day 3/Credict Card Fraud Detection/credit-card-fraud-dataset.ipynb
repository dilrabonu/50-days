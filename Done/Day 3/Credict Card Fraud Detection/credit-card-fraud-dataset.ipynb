{
 "cells": [
  {
   "cell_type": "code",
   "execution_count": 1,
   "id": "6f8959fb",
   "metadata": {
    "_cell_guid": "b1076dfc-b9ad-4769-8c92-a6c4dae69d19",
    "_uuid": "8f2839f25d086af736a60e9eeb907d3b93b6e0e5",
    "execution": {
     "iopub.execute_input": "2025-05-14T08:21:51.113868Z",
     "iopub.status.busy": "2025-05-14T08:21:51.113456Z",
     "iopub.status.idle": "2025-05-14T08:21:52.883313Z",
     "shell.execute_reply": "2025-05-14T08:21:52.882189Z"
    },
    "papermill": {
     "duration": 1.776583,
     "end_time": "2025-05-14T08:21:52.884809",
     "exception": false,
     "start_time": "2025-05-14T08:21:51.108226",
     "status": "completed"
    },
    "tags": []
   },
   "outputs": [
    {
     "name": "stdout",
     "output_type": "stream",
     "text": [
      "/kaggle/input/creditcardfraud/creditcard.csv\n"
     ]
    }
   ],
   "source": [
    "# This Python 3 environment comes with many helpful analytics libraries installed\n",
    "# It is defined by the kaggle/python Docker image: https://github.com/kaggle/docker-python\n",
    "# For example, here's several helpful packages to load\n",
    "\n",
    "import numpy as np # linear algebra\n",
    "import pandas as pd # data processing, CSV file I/O (e.g. pd.read_csv)\n",
    "\n",
    "# Input data files are available in the read-only \"../input/\" directory\n",
    "# For example, running this (by clicking run or pressing Shift+Enter) will list all files under the input directory\n",
    "\n",
    "import os\n",
    "for dirname, _, filenames in os.walk('/kaggle/input'):\n",
    "    for filename in filenames:\n",
    "        print(os.path.join(dirname, filename))\n",
    "\n",
    "# You can write up to 20GB to the current directory (/kaggle/working/) that gets preserved as output when you create a version using \"Save & Run All\" \n",
    "# You can also write temporary files to /kaggle/temp/, but they won't be saved outside of the current session"
   ]
  },
  {
   "cell_type": "code",
   "execution_count": 2,
   "id": "4a01a2dc",
   "metadata": {
    "execution": {
     "iopub.execute_input": "2025-05-14T08:21:52.892753Z",
     "iopub.status.busy": "2025-05-14T08:21:52.892341Z",
     "iopub.status.idle": "2025-05-14T08:21:56.859239Z",
     "shell.execute_reply": "2025-05-14T08:21:56.858444Z"
    },
    "papermill": {
     "duration": 3.972289,
     "end_time": "2025-05-14T08:21:56.860659",
     "exception": false,
     "start_time": "2025-05-14T08:21:52.888370",
     "status": "completed"
    },
    "tags": []
   },
   "outputs": [
    {
     "data": {
      "text/html": [
       "<div>\n",
       "<style scoped>\n",
       "    .dataframe tbody tr th:only-of-type {\n",
       "        vertical-align: middle;\n",
       "    }\n",
       "\n",
       "    .dataframe tbody tr th {\n",
       "        vertical-align: top;\n",
       "    }\n",
       "\n",
       "    .dataframe thead th {\n",
       "        text-align: right;\n",
       "    }\n",
       "</style>\n",
       "<table border=\"1\" class=\"dataframe\">\n",
       "  <thead>\n",
       "    <tr style=\"text-align: right;\">\n",
       "      <th></th>\n",
       "      <th>Time</th>\n",
       "      <th>V1</th>\n",
       "      <th>V2</th>\n",
       "      <th>V3</th>\n",
       "      <th>V4</th>\n",
       "      <th>V5</th>\n",
       "      <th>V6</th>\n",
       "      <th>V7</th>\n",
       "      <th>V8</th>\n",
       "      <th>V9</th>\n",
       "      <th>...</th>\n",
       "      <th>V21</th>\n",
       "      <th>V22</th>\n",
       "      <th>V23</th>\n",
       "      <th>V24</th>\n",
       "      <th>V25</th>\n",
       "      <th>V26</th>\n",
       "      <th>V27</th>\n",
       "      <th>V28</th>\n",
       "      <th>Amount</th>\n",
       "      <th>Class</th>\n",
       "    </tr>\n",
       "  </thead>\n",
       "  <tbody>\n",
       "    <tr>\n",
       "      <th>0</th>\n",
       "      <td>0.0</td>\n",
       "      <td>-1.359807</td>\n",
       "      <td>-0.072781</td>\n",
       "      <td>2.536347</td>\n",
       "      <td>1.378155</td>\n",
       "      <td>-0.338321</td>\n",
       "      <td>0.462388</td>\n",
       "      <td>0.239599</td>\n",
       "      <td>0.098698</td>\n",
       "      <td>0.363787</td>\n",
       "      <td>...</td>\n",
       "      <td>-0.018307</td>\n",
       "      <td>0.277838</td>\n",
       "      <td>-0.110474</td>\n",
       "      <td>0.066928</td>\n",
       "      <td>0.128539</td>\n",
       "      <td>-0.189115</td>\n",
       "      <td>0.133558</td>\n",
       "      <td>-0.021053</td>\n",
       "      <td>149.62</td>\n",
       "      <td>0</td>\n",
       "    </tr>\n",
       "    <tr>\n",
       "      <th>1</th>\n",
       "      <td>0.0</td>\n",
       "      <td>1.191857</td>\n",
       "      <td>0.266151</td>\n",
       "      <td>0.166480</td>\n",
       "      <td>0.448154</td>\n",
       "      <td>0.060018</td>\n",
       "      <td>-0.082361</td>\n",
       "      <td>-0.078803</td>\n",
       "      <td>0.085102</td>\n",
       "      <td>-0.255425</td>\n",
       "      <td>...</td>\n",
       "      <td>-0.225775</td>\n",
       "      <td>-0.638672</td>\n",
       "      <td>0.101288</td>\n",
       "      <td>-0.339846</td>\n",
       "      <td>0.167170</td>\n",
       "      <td>0.125895</td>\n",
       "      <td>-0.008983</td>\n",
       "      <td>0.014724</td>\n",
       "      <td>2.69</td>\n",
       "      <td>0</td>\n",
       "    </tr>\n",
       "    <tr>\n",
       "      <th>2</th>\n",
       "      <td>1.0</td>\n",
       "      <td>-1.358354</td>\n",
       "      <td>-1.340163</td>\n",
       "      <td>1.773209</td>\n",
       "      <td>0.379780</td>\n",
       "      <td>-0.503198</td>\n",
       "      <td>1.800499</td>\n",
       "      <td>0.791461</td>\n",
       "      <td>0.247676</td>\n",
       "      <td>-1.514654</td>\n",
       "      <td>...</td>\n",
       "      <td>0.247998</td>\n",
       "      <td>0.771679</td>\n",
       "      <td>0.909412</td>\n",
       "      <td>-0.689281</td>\n",
       "      <td>-0.327642</td>\n",
       "      <td>-0.139097</td>\n",
       "      <td>-0.055353</td>\n",
       "      <td>-0.059752</td>\n",
       "      <td>378.66</td>\n",
       "      <td>0</td>\n",
       "    </tr>\n",
       "    <tr>\n",
       "      <th>3</th>\n",
       "      <td>1.0</td>\n",
       "      <td>-0.966272</td>\n",
       "      <td>-0.185226</td>\n",
       "      <td>1.792993</td>\n",
       "      <td>-0.863291</td>\n",
       "      <td>-0.010309</td>\n",
       "      <td>1.247203</td>\n",
       "      <td>0.237609</td>\n",
       "      <td>0.377436</td>\n",
       "      <td>-1.387024</td>\n",
       "      <td>...</td>\n",
       "      <td>-0.108300</td>\n",
       "      <td>0.005274</td>\n",
       "      <td>-0.190321</td>\n",
       "      <td>-1.175575</td>\n",
       "      <td>0.647376</td>\n",
       "      <td>-0.221929</td>\n",
       "      <td>0.062723</td>\n",
       "      <td>0.061458</td>\n",
       "      <td>123.50</td>\n",
       "      <td>0</td>\n",
       "    </tr>\n",
       "    <tr>\n",
       "      <th>4</th>\n",
       "      <td>2.0</td>\n",
       "      <td>-1.158233</td>\n",
       "      <td>0.877737</td>\n",
       "      <td>1.548718</td>\n",
       "      <td>0.403034</td>\n",
       "      <td>-0.407193</td>\n",
       "      <td>0.095921</td>\n",
       "      <td>0.592941</td>\n",
       "      <td>-0.270533</td>\n",
       "      <td>0.817739</td>\n",
       "      <td>...</td>\n",
       "      <td>-0.009431</td>\n",
       "      <td>0.798278</td>\n",
       "      <td>-0.137458</td>\n",
       "      <td>0.141267</td>\n",
       "      <td>-0.206010</td>\n",
       "      <td>0.502292</td>\n",
       "      <td>0.219422</td>\n",
       "      <td>0.215153</td>\n",
       "      <td>69.99</td>\n",
       "      <td>0</td>\n",
       "    </tr>\n",
       "  </tbody>\n",
       "</table>\n",
       "<p>5 rows × 31 columns</p>\n",
       "</div>"
      ],
      "text/plain": [
       "   Time        V1        V2        V3        V4        V5        V6        V7  \\\n",
       "0   0.0 -1.359807 -0.072781  2.536347  1.378155 -0.338321  0.462388  0.239599   \n",
       "1   0.0  1.191857  0.266151  0.166480  0.448154  0.060018 -0.082361 -0.078803   \n",
       "2   1.0 -1.358354 -1.340163  1.773209  0.379780 -0.503198  1.800499  0.791461   \n",
       "3   1.0 -0.966272 -0.185226  1.792993 -0.863291 -0.010309  1.247203  0.237609   \n",
       "4   2.0 -1.158233  0.877737  1.548718  0.403034 -0.407193  0.095921  0.592941   \n",
       "\n",
       "         V8        V9  ...       V21       V22       V23       V24       V25  \\\n",
       "0  0.098698  0.363787  ... -0.018307  0.277838 -0.110474  0.066928  0.128539   \n",
       "1  0.085102 -0.255425  ... -0.225775 -0.638672  0.101288 -0.339846  0.167170   \n",
       "2  0.247676 -1.514654  ...  0.247998  0.771679  0.909412 -0.689281 -0.327642   \n",
       "3  0.377436 -1.387024  ... -0.108300  0.005274 -0.190321 -1.175575  0.647376   \n",
       "4 -0.270533  0.817739  ... -0.009431  0.798278 -0.137458  0.141267 -0.206010   \n",
       "\n",
       "        V26       V27       V28  Amount  Class  \n",
       "0 -0.189115  0.133558 -0.021053  149.62      0  \n",
       "1  0.125895 -0.008983  0.014724    2.69      0  \n",
       "2 -0.139097 -0.055353 -0.059752  378.66      0  \n",
       "3 -0.221929  0.062723  0.061458  123.50      0  \n",
       "4  0.502292  0.219422  0.215153   69.99      0  \n",
       "\n",
       "[5 rows x 31 columns]"
      ]
     },
     "execution_count": 2,
     "metadata": {},
     "output_type": "execute_result"
    }
   ],
   "source": [
    "df = pd.read_csv(\"/kaggle/input/creditcardfraud/creditcard.csv\")\n",
    "df.head()"
   ]
  },
  {
   "cell_type": "code",
   "execution_count": 3,
   "id": "ef2a6fb1",
   "metadata": {
    "execution": {
     "iopub.execute_input": "2025-05-14T08:21:56.868980Z",
     "iopub.status.busy": "2025-05-14T08:21:56.868505Z",
     "iopub.status.idle": "2025-05-14T08:21:56.920673Z",
     "shell.execute_reply": "2025-05-14T08:21:56.919744Z"
    },
    "papermill": {
     "duration": 0.058028,
     "end_time": "2025-05-14T08:21:56.922281",
     "exception": false,
     "start_time": "2025-05-14T08:21:56.864253",
     "status": "completed"
    },
    "tags": []
   },
   "outputs": [
    {
     "name": "stdout",
     "output_type": "stream",
     "text": [
      "<class 'pandas.core.frame.DataFrame'>\n",
      "RangeIndex: 284807 entries, 0 to 284806\n",
      "Data columns (total 31 columns):\n",
      " #   Column  Non-Null Count   Dtype  \n",
      "---  ------  --------------   -----  \n",
      " 0   Time    284807 non-null  float64\n",
      " 1   V1      284807 non-null  float64\n",
      " 2   V2      284807 non-null  float64\n",
      " 3   V3      284807 non-null  float64\n",
      " 4   V4      284807 non-null  float64\n",
      " 5   V5      284807 non-null  float64\n",
      " 6   V6      284807 non-null  float64\n",
      " 7   V7      284807 non-null  float64\n",
      " 8   V8      284807 non-null  float64\n",
      " 9   V9      284807 non-null  float64\n",
      " 10  V10     284807 non-null  float64\n",
      " 11  V11     284807 non-null  float64\n",
      " 12  V12     284807 non-null  float64\n",
      " 13  V13     284807 non-null  float64\n",
      " 14  V14     284807 non-null  float64\n",
      " 15  V15     284807 non-null  float64\n",
      " 16  V16     284807 non-null  float64\n",
      " 17  V17     284807 non-null  float64\n",
      " 18  V18     284807 non-null  float64\n",
      " 19  V19     284807 non-null  float64\n",
      " 20  V20     284807 non-null  float64\n",
      " 21  V21     284807 non-null  float64\n",
      " 22  V22     284807 non-null  float64\n",
      " 23  V23     284807 non-null  float64\n",
      " 24  V24     284807 non-null  float64\n",
      " 25  V25     284807 non-null  float64\n",
      " 26  V26     284807 non-null  float64\n",
      " 27  V27     284807 non-null  float64\n",
      " 28  V28     284807 non-null  float64\n",
      " 29  Amount  284807 non-null  float64\n",
      " 30  Class   284807 non-null  int64  \n",
      "dtypes: float64(30), int64(1)\n",
      "memory usage: 67.4 MB\n"
     ]
    }
   ],
   "source": [
    "df.info()"
   ]
  },
  {
   "cell_type": "code",
   "execution_count": 4,
   "id": "658c4f97",
   "metadata": {
    "execution": {
     "iopub.execute_input": "2025-05-14T08:21:56.930572Z",
     "iopub.status.busy": "2025-05-14T08:21:56.929899Z",
     "iopub.status.idle": "2025-05-14T08:21:56.965153Z",
     "shell.execute_reply": "2025-05-14T08:21:56.964337Z"
    },
    "papermill": {
     "duration": 0.04064,
     "end_time": "2025-05-14T08:21:56.966394",
     "exception": false,
     "start_time": "2025-05-14T08:21:56.925754",
     "status": "completed"
    },
    "tags": []
   },
   "outputs": [
    {
     "data": {
      "text/plain": [
       "Time      0\n",
       "V1        0\n",
       "V2        0\n",
       "V3        0\n",
       "V4        0\n",
       "V5        0\n",
       "V6        0\n",
       "V7        0\n",
       "V8        0\n",
       "V9        0\n",
       "V10       0\n",
       "V11       0\n",
       "V12       0\n",
       "V13       0\n",
       "V14       0\n",
       "V15       0\n",
       "V16       0\n",
       "V17       0\n",
       "V18       0\n",
       "V19       0\n",
       "V20       0\n",
       "V21       0\n",
       "V22       0\n",
       "V23       0\n",
       "V24       0\n",
       "V25       0\n",
       "V26       0\n",
       "V27       0\n",
       "V28       0\n",
       "Amount    0\n",
       "Class     0\n",
       "dtype: int64"
      ]
     },
     "execution_count": 4,
     "metadata": {},
     "output_type": "execute_result"
    }
   ],
   "source": [
    "df.isnull().sum()"
   ]
  },
  {
   "cell_type": "code",
   "execution_count": 5,
   "id": "89ba0d44",
   "metadata": {
    "execution": {
     "iopub.execute_input": "2025-05-14T08:21:56.974484Z",
     "iopub.status.busy": "2025-05-14T08:21:56.974008Z",
     "iopub.status.idle": "2025-05-14T08:21:57.811382Z",
     "shell.execute_reply": "2025-05-14T08:21:57.810560Z"
    },
    "papermill": {
     "duration": 0.8427,
     "end_time": "2025-05-14T08:21:57.812655",
     "exception": false,
     "start_time": "2025-05-14T08:21:56.969955",
     "status": "completed"
    },
    "tags": []
   },
   "outputs": [
    {
     "data": {
      "text/plain": [
       "1081"
      ]
     },
     "execution_count": 5,
     "metadata": {},
     "output_type": "execute_result"
    }
   ],
   "source": [
    "df.duplicated().sum()"
   ]
  },
  {
   "cell_type": "code",
   "execution_count": 6,
   "id": "b48cc188",
   "metadata": {
    "execution": {
     "iopub.execute_input": "2025-05-14T08:21:57.821223Z",
     "iopub.status.busy": "2025-05-14T08:21:57.820424Z",
     "iopub.status.idle": "2025-05-14T08:21:58.662836Z",
     "shell.execute_reply": "2025-05-14T08:21:58.661973Z"
    },
    "papermill": {
     "duration": 0.848189,
     "end_time": "2025-05-14T08:21:58.664449",
     "exception": false,
     "start_time": "2025-05-14T08:21:57.816260",
     "status": "completed"
    },
    "tags": []
   },
   "outputs": [],
   "source": [
    "df = df.drop_duplicates()"
   ]
  },
  {
   "cell_type": "code",
   "execution_count": 7,
   "id": "7404cd8d",
   "metadata": {
    "execution": {
     "iopub.execute_input": "2025-05-14T08:21:58.672943Z",
     "iopub.status.busy": "2025-05-14T08:21:58.672432Z",
     "iopub.status.idle": "2025-05-14T08:22:00.650771Z",
     "shell.execute_reply": "2025-05-14T08:22:00.649892Z"
    },
    "papermill": {
     "duration": 1.984146,
     "end_time": "2025-05-14T08:22:00.652294",
     "exception": false,
     "start_time": "2025-05-14T08:21:58.668148",
     "status": "completed"
    },
    "tags": []
   },
   "outputs": [
    {
     "data": {
      "image/png": "[encoded data removed]",
      "text/plain": [
       "<Figure size 1200x800 with 1 Axes>"
      ]
     },
     "metadata": {},
     "output_type": "display_data"
    }
   ],
   "source": [
    "import seaborn as sns\n",
    "import matplotlib.pyplot as plt\n",
    "plt.figure(figsize=(12,8))\n",
    "sns.countplot(x='Class', data=df)\n",
    "plt.title(\"Distribution of Fraudulent vs Non-Fraudulent Transactions\")\n",
    "plt.show()"
   ]
  },
  {
   "cell_type": "code",
   "execution_count": 8,
   "id": "8b4a4612",
   "metadata": {
    "execution": {
     "iopub.execute_input": "2025-05-14T08:22:00.662121Z",
     "iopub.status.busy": "2025-05-14T08:22:00.661200Z",
     "iopub.status.idle": "2025-05-14T08:22:00.969253Z",
     "shell.execute_reply": "2025-05-14T08:22:00.968331Z"
    },
    "papermill": {
     "duration": 0.314453,
     "end_time": "2025-05-14T08:22:00.970867",
     "exception": false,
     "start_time": "2025-05-14T08:22:00.656414",
     "status": "completed"
    },
    "tags": []
   },
   "outputs": [],
   "source": [
    "from sklearn.preprocessing import StandardScaler\n",
    "\n",
    "scaler = StandardScaler()\n",
    "df['scaled_amount'] = scaler.fit_transform(df[['Amount']])\n",
    "df['scaled_time'] = scaler.fit_transform(df[['Time']])\n",
    "df = df.drop(['Time', 'Amount'], axis=1)"
   ]
  },
  {
   "cell_type": "code",
   "execution_count": 9,
   "id": "4e665971",
   "metadata": {
    "execution": {
     "iopub.execute_input": "2025-05-14T08:22:00.980768Z",
     "iopub.status.busy": "2025-05-14T08:22:00.980025Z",
     "iopub.status.idle": "2025-05-14T08:22:01.277004Z",
     "shell.execute_reply": "2025-05-14T08:22:01.276125Z"
    },
    "papermill": {
     "duration": 0.303479,
     "end_time": "2025-05-14T08:22:01.278583",
     "exception": false,
     "start_time": "2025-05-14T08:22:00.975104",
     "status": "completed"
    },
    "tags": []
   },
   "outputs": [],
   "source": [
    "from sklearn.model_selection import train_test_split\n",
    "\n",
    "X = df.drop('Class', axis=1)\n",
    "y = df['Class']\n",
    "X_train, X_test, y_train, y_test = train_test_split(X, y, test_size=0.2, stratify=y, random_state=42)"
   ]
  },
  {
   "cell_type": "code",
   "execution_count": 10,
   "id": "c7a7ecf1",
   "metadata": {
    "execution": {
     "iopub.execute_input": "2025-05-14T08:22:01.288592Z",
     "iopub.status.busy": "2025-05-14T08:22:01.287580Z",
     "iopub.status.idle": "2025-05-14T08:22:04.152594Z",
     "shell.execute_reply": "2025-05-14T08:22:04.151874Z"
    },
    "papermill": {
     "duration": 2.871788,
     "end_time": "2025-05-14T08:22:04.154488",
     "exception": false,
     "start_time": "2025-05-14T08:22:01.282700",
     "status": "completed"
    },
    "tags": []
   },
   "outputs": [],
   "source": [
    "from sklearn.linear_model import LogisticRegression\n",
    "from sklearn.metrics import classification_report, roc_auc_score, roc_curve\n",
    "\n",
    "log_model = LogisticRegression(class_weight='balanced', max_iter=1000)\n",
    "log_model.fit(X_train, y_train)\n",
    "y_pred_log = log_model.predict(X_test)\n",
    "y_proba_log = log_model.predict_proba(X_test)[:,1]"
   ]
  },
  {
   "cell_type": "code",
   "execution_count": 11,
   "id": "8bd222b5",
   "metadata": {
    "execution": {
     "iopub.execute_input": "2025-05-14T08:22:04.168991Z",
     "iopub.status.busy": "2025-05-14T08:22:04.168642Z",
     "iopub.status.idle": "2025-05-14T08:22:04.202243Z",
     "shell.execute_reply": "2025-05-14T08:22:04.201545Z"
    },
    "papermill": {
     "duration": 0.04295,
     "end_time": "2025-05-14T08:22:04.204035",
     "exception": false,
     "start_time": "2025-05-14T08:22:04.161085",
     "status": "completed"
    },
    "tags": []
   },
   "outputs": [
    {
     "name": "stdout",
     "output_type": "stream",
     "text": [
      "LogReg ROC AUC: 0.9656578738332302\n"
     ]
    }
   ],
   "source": [
    "print(\"LogReg ROC AUC:\", roc_auc_score(y_test, y_proba_log))"
   ]
  },
  {
   "cell_type": "code",
   "execution_count": 12,
   "id": "bc1b9bd0",
   "metadata": {
    "execution": {
     "iopub.execute_input": "2025-05-14T08:22:04.218753Z",
     "iopub.status.busy": "2025-05-14T08:22:04.218238Z",
     "iopub.status.idle": "2025-05-14T08:22:04.407470Z",
     "shell.execute_reply": "2025-05-14T08:22:04.406459Z"
    },
    "papermill": {
     "duration": 0.198297,
     "end_time": "2025-05-14T08:22:04.409362",
     "exception": false,
     "start_time": "2025-05-14T08:22:04.211065",
     "status": "completed"
    },
    "tags": []
   },
   "outputs": [
    {
     "data": {
      "image/png": "[encoded data removed]",
      "text/plain": [
       "<Figure size 640x480 with 1 Axes>"
      ]
     },
     "metadata": {},
     "output_type": "display_data"
    }
   ],
   "source": [
    "fpr, tpr, _ = roc_curve(y_test, y_proba_log)\n",
    "plt.plot(fpr, tpr, label='LogReg')\n",
    "plt.plot([0,1], [0,1], linestyle='--')\n",
    "plt.xlabel('False Positive Rate')\n",
    "plt.ylabel('True Positive Rate')\n",
    "plt.title('ROC Curve')\n",
    "plt.legend()\n",
    "plt.show()"
   ]
  },
  {
   "cell_type": "code",
   "execution_count": 13,
   "id": "8aa9f74b",
   "metadata": {
    "execution": {
     "iopub.execute_input": "2025-05-14T08:22:04.425497Z",
     "iopub.status.busy": "2025-05-14T08:22:04.424150Z",
     "iopub.status.idle": "2025-05-14T08:40:42.096386Z",
     "shell.execute_reply": "2025-05-14T08:40:42.095516Z"
    },
    "papermill": {
     "duration": 1117.687247,
     "end_time": "2025-05-14T08:40:42.103157",
     "exception": false,
     "start_time": "2025-05-14T08:22:04.415910",
     "status": "completed"
    },
    "tags": []
   },
   "outputs": [
    {
     "name": "stdout",
     "output_type": "stream",
     "text": [
      "SVM ROC AUC: 0.9648079794196971\n"
     ]
    }
   ],
   "source": [
    "from sklearn.svm import SVC\n",
    "\n",
    "svm_model = SVC(kernel='rbf', class_weight='balanced', probability=True)\n",
    "svm_model.fit(X_train, y_train)\n",
    "y_proba_svm = svm_model.predict_proba(X_test)[:,1]\n",
    "print(\"SVM ROC AUC:\", roc_auc_score(y_test, y_proba_svm))"
   ]
  },
  {
   "cell_type": "code",
   "execution_count": 14,
   "id": "bbdcac66",
   "metadata": {
    "execution": {
     "iopub.execute_input": "2025-05-14T08:40:42.114894Z",
     "iopub.status.busy": "2025-05-14T08:40:42.114117Z",
     "iopub.status.idle": "2025-05-14T08:40:42.313792Z",
     "shell.execute_reply": "2025-05-14T08:40:42.313073Z"
    },
    "papermill": {
     "duration": 0.207141,
     "end_time": "2025-05-14T08:40:42.315402",
     "exception": false,
     "start_time": "2025-05-14T08:40:42.108261",
     "status": "completed"
    },
    "tags": []
   },
   "outputs": [
    {
     "data": {
      "image/png": "[encoded data removed]",
      "text/plain": [
       "<Figure size 640x480 with 1 Axes>"
      ]
     },
     "metadata": {},
     "output_type": "display_data"
    }
   ],
   "source": [
    "plt.plot(*roc_curve(y_test, y_proba_log)[:2], label=\"LogReg\")\n",
    "plt.plot(*roc_curve(y_test, y_proba_svm)[:2], label='SVM')\n",
    "plt.plot([0,1], [0,1], '--')\n",
    "plt.title('ROC Curve Comparison')\n",
    "plt.xlabel('False Positive Rate')\n",
    "plt.ylabel('True Positive Rate')\n",
    "plt.legend()\n",
    "plt.grid()\n",
    "plt.show()"
   ]
  },
  {
   "cell_type": "code",
   "execution_count": 15,
   "id": "118645a6",
   "metadata": {
    "execution": {
     "iopub.execute_input": "2025-05-14T08:40:42.327009Z",
     "iopub.status.busy": "2025-05-14T08:40:42.326454Z",
     "iopub.status.idle": "2025-05-14T08:40:42.332662Z",
     "shell.execute_reply": "2025-05-14T08:40:42.332017Z"
    },
    "papermill": {
     "duration": 0.013224,
     "end_time": "2025-05-14T08:40:42.333998",
     "exception": false,
     "start_time": "2025-05-14T08:40:42.320774",
     "status": "completed"
    },
    "tags": []
   },
   "outputs": [
    {
     "data": {
      "text/plain": [
       "['logreg_fraud_model.pkl']"
      ]
     },
     "execution_count": 15,
     "metadata": {},
     "output_type": "execute_result"
    }
   ],
   "source": [
    "import joblib\n",
    "joblib.dump(log_model, 'logreg_fraud_model.pkl')"
   ]
  },
  {
   "cell_type": "code",
   "execution_count": null,
   "id": "afcaa22e",
   "metadata": {
    "papermill": {
     "duration": 0.005509,
     "end_time": "2025-05-14T08:40:42.345097",
     "exception": false,
     "start_time": "2025-05-14T08:40:42.339588",
     "status": "completed"
    },
    "tags": []
   },
   "outputs": [],
   "source": []
  }
 ],
 "metadata": {
  "kaggle": {
   "accelerator": "none",
   "dataSources": [
    {
     "datasetId": 310,
     "sourceId": 23498,
     "sourceType": "datasetVersion"
    }
   ],
   "dockerImageVersionId": 31040,
   "isGpuEnabled": false,
   "isInternetEnabled": true,
   "language": "python",
   "sourceType": "notebook"
  },
  "kernelspec": {
   "display_name": "Python 3",
   "language": "python",
   "name": "python3"
  },
  "language_info": {
   "codemirror_mode": {
    "name": "ipython",
    "version": 3
   },
   "file_extension": ".py",
   "mimetype": "text/x-python",
   "name": "python",
   "nbconvert_exporter": "python",
   "pygments_lexer": "ipython3",
   "version": "3.11.11"
  },
  "papermill": {
   "default_parameters": {},
   "duration": 1136.510805,
   "end_time": "2025-05-14T08:40:43.070757",
   "environment_variables": {},
   "exception": null,
   "input_path": "__notebook__.ipynb",
   "output_path": "__notebook__.ipynb",
   "parameters": {},
   "start_time": "2025-05-14T08:21:46.559952",
   "version": "2.6.0"
  }
 },
 "nbformat": 4,
 "nbformat_minor": 5
}
